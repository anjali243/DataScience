{
  "nbformat": 4,
  "nbformat_minor": 0,
  "metadata": {
    "colab": {
      "provenance": [],
      "authorship_tag": "ABX9TyMM+PF4kJOX6rkdvJXSuPGa",
      "include_colab_link": true
    },
    "kernelspec": {
      "name": "python3",
      "display_name": "Python 3"
    },
    "language_info": {
      "name": "python"
    }
  },
  "cells": [
    {
      "cell_type": "markdown",
      "metadata": {
        "id": "view-in-github",
        "colab_type": "text"
      },
      "source": [
        "<a href=\"https://colab.research.google.com/github/anjali243/DataScience/blob/main/Untitled3.ipynb\" target=\"_parent\"><img src=\"https://colab.research.google.com/assets/colab-badge.svg\" alt=\"Open In Colab\"/></a>"
      ]
    },
    {
      "cell_type": "markdown",
      "source": [
        "\n",
        "\n",
        "1. Write a code to find the minimum among three given numbers.\n",
        "\n"
      ],
      "metadata": {
        "id": "IdMYQDpnW7WU"
      }
    },
    {
      "cell_type": "code",
      "execution_count": 16,
      "metadata": {
        "colab": {
          "base_uri": "https://localhost:8080/"
        },
        "id": "oBn1Og8oVkbS",
        "outputId": "ba70be95-01b4-4e3c-dd96-0f26a4773549"
      },
      "outputs": [
        {
          "output_type": "stream",
          "name": "stdout",
          "text": [
            "Enter first number: 1\n",
            "Enter second number: 2\n",
            "Enter third number: 3\n",
            "Minimum number is: 1.0\n"
          ]
        }
      ],
      "source": [
        "# Input three numbers\n",
        "a = float(input(\"Enter first number: \"))\n",
        "b = float(input(\"Enter second number: \"))\n",
        "c = float(input(\"Enter third number: \"))\n",
        "\n",
        "# Find minimum using if-else\n",
        "if a <= b and a <= c:\n",
        "    minimum = a\n",
        "elif b <= a and b <= c:\n",
        "    minimum = b\n",
        "else:\n",
        "    minimum = c\n",
        "\n",
        "print(\"Minimum number is:\", minimum)\n"
      ]
    },
    {
      "cell_type": "code",
      "source": [
        "a = float(input(\"Enter first number: \"))\n",
        "b = float(input(\"Enter second number: \"))\n",
        "c = float(input(\"Enter third number: \"))\n",
        "\n",
        "minimum = min(a, b, c)\n",
        "print(\"Minimum number is:\", minimum)\n"
      ],
      "metadata": {
        "colab": {
          "base_uri": "https://localhost:8080/"
        },
        "id": "rXHGwdOIWzzl",
        "outputId": "28a76ff1-f33c-4ff3-e333-b9449c89d2fa"
      },
      "execution_count": 19,
      "outputs": [
        {
          "output_type": "stream",
          "name": "stdout",
          "text": [
            "Enter first number: 253\n",
            "Enter second number: 4\n",
            "Enter third number: 3\n",
            "Minimum number is: 3.0\n"
          ]
        }
      ]
    },
    {
      "cell_type": "markdown",
      "source": [
        "2. Write a code to check whether a given number is a palindrome."
      ],
      "metadata": {
        "id": "Bpeqb5bcc_xj"
      }
    },
    {
      "cell_type": "code",
      "source": [
        "# Method 1 — Using String Reversal\n",
        "num = input(\"Enter a number: \")\n",
        "\n",
        "# Check palindrome\n",
        "if num == num[::-1]:\n",
        "    print(\"The number is a palindrome.\")\n",
        "else:\n",
        "    print(\"The number is not a palindrome.\")\n"
      ],
      "metadata": {
        "colab": {
          "base_uri": "https://localhost:8080/"
        },
        "id": "e1elZuZ5dD5y",
        "outputId": "4d9e3c17-025e-4ba3-bec0-abe0c465fbef"
      },
      "execution_count": 25,
      "outputs": [
        {
          "output_type": "stream",
          "name": "stdout",
          "text": [
            "ENter a number123\n",
            "321\n"
          ]
        }
      ]
    },
    {
      "cell_type": "code",
      "source": [
        "# Method 2 — Using Integer Reversal (Without Strings)\n",
        "num = int(input(\"Enter a number: \"))\n",
        "\n",
        "# Store original number\n",
        "original = num\n",
        "reversed_num = 0\n",
        "\n",
        "# Reverse the number\n",
        "while num > 0:\n",
        "    digit = num % 10\n",
        "    reversed_num = reversed_num * 10 + digit\n",
        "    num //= 10\n",
        "\n",
        "# Check palindrome\n",
        "if original == reversed_num:\n",
        "    print(\"The number is a palindrome.\")\n",
        "else:\n",
        "    print(\"The number is not a palindrome.\")\n"
      ],
      "metadata": {
        "id": "LLIooWaVf9DL"
      },
      "execution_count": null,
      "outputs": []
    },
    {
      "cell_type": "markdown",
      "source": [
        "3. Write a code to find the sum of numbers divisible by 4.The code must allow the user to accept a number and add it to the sum if it is divisible by 4. It should continue accepting numbers as long as the user wants to provide an input and should display the final sum."
      ],
      "metadata": {
        "id": "IYka1Rvpf8h1"
      }
    },
    {
      "cell_type": "code",
      "source": [
        "list1=[]\n",
        "\n",
        "while True:\n",
        "  num=input(\"enter a number or press enter to stop\")\n",
        "\n",
        "  if(num==\"\"):\n",
        "    break\n",
        "\n",
        "  if int(num)%4==0:\n",
        "    list1.append(int(num))\n",
        "\n",
        "print(sum(list1))\n",
        "\n",
        ""
      ],
      "metadata": {
        "id": "i8f4UQ_ggSEP",
        "outputId": "a1f79804-f989-47a7-e722-c7ca72fe87e9",
        "colab": {
          "base_uri": "https://localhost:8080/"
        }
      },
      "execution_count": 45,
      "outputs": [
        {
          "output_type": "stream",
          "name": "stdout",
          "text": [
            "enter a number or press enter to stop1\n",
            "enter a number or press enter to stop2\n",
            "enter a number or press enter to stop3\n",
            "enter a number or press enter to stop4\n",
            "enter a number or press enter to stop8\n",
            "enter a number or press enter to stop\n",
            "12\n"
          ]
        }
      ]
    },
    {
      "cell_type": "markdown",
      "source": [
        "4. A three digit number is said to be an “Armstrong number” if the sum of the third power of its individual digits is equal to the number itself.Write a program to check whether a number is armstrong or not."
      ],
      "metadata": {
        "id": "hQw7-q_5p2AB"
      }
    },
    {
      "cell_type": "code",
      "source": [
        "num=int(input(\"enter a number\"))\n"
      ],
      "metadata": {
        "id": "ATyQy3wyf4rX"
      },
      "execution_count": null,
      "outputs": []
    }
  ]
}